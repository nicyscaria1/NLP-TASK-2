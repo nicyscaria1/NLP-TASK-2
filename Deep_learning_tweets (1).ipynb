{
  "nbformat": 4,
  "nbformat_minor": 0,
  "metadata": {
    "colab": {
      "provenance": []
    },
    "kernelspec": {
      "name": "python3",
      "display_name": "Python 3"
    },
    "language_info": {
      "name": "python"
    }
  },
  "cells": [
    {
      "cell_type": "code",
      "execution_count": 50,
      "metadata": {
        "colab": {
          "base_uri": "https://localhost:8080/"
        },
        "id": "t3N98WNjyMZ7",
        "outputId": "0508d290-e551-456f-f9b0-11dca7743c98"
      },
      "outputs": [
        {
          "output_type": "stream",
          "name": "stdout",
          "text": [
            "Drive already mounted at /content/drive; to attempt to forcibly remount, call drive.mount(\"/content/drive\", force_remount=True).\n",
            "[Errno 20] Not a directory: '/content/drive/MyDrive/Nicy_Data_Science/olid-training-v1.0.tsv'\n",
            "/content\n"
          ]
        }
      ],
      "source": [
        "import pandas as pd\n",
        "import numpy as np\n",
        "import warnings\n",
        "import re\n",
        "import string\n",
        "import seaborn as sns\n",
        "from matplotlib import style\n",
        "import matplotlib.pyplot as plt\n",
        "\n",
        "warnings.simplefilter('ignore')\n",
        "\n",
        "from google.colab import drive\n",
        "drive.mount('/content/drive')\n",
        "%cd /content/drive/MyDrive/Nicy_Data_Science/olid-training-v1.0.tsv\n",
        "\n",
        "\n",
        "import tensorflow as tf\n",
        "from tensorflow.keras.models import Sequential\n",
        "from tensorflow.keras.layers import Embedding, LSTM, SimpleRNN, Bidirectional, Conv1D, GlobalMaxPooling1D, Dense\n",
        "from tensorflow.keras.preprocessing.text import Tokenizer\n",
        "from tensorflow.keras.preprocessing.sequence import pad_sequences\n",
        "\n",
        "from sklearn.model_selection import train_test_split\n",
        "from sklearn.metrics import classification_report,confusion_matrix #to make classification report, confusion matrix\n",
        "from sklearn.metrics import roc_curve, auc\n",
        "\n",
        "from tensorflow.keras.optimizers import Adam\n",
        "#from tensorflow.keras.callbacks import EarlyStopping\n",
        "\n",
        "import torch\n",
        "from transformers import BertTokenizer, BertForSequenceClassification\n",
        "from torch.nn.functional import softmax"
      ]
    },
    {
      "cell_type": "code",
      "source": [
        "df_tweet = pd.read_csv('/content/drive/MyDrive/Nicy_Data_Science/olid-training-v1.0.tsv',sep='\\t', usecols=['id', 'tweet', 'subtask_a'])\n",
        "df_tweet.columns = ['ID', 'TWEET', 'LABEL']\n",
        "\n",
        "# Replacing the categorical values for easy understanding. (Assigning 1 and 0 to offensive and not offensive tweets respectively)\n",
        "\n",
        "df_tweet['LABEL'] = df_tweet['LABEL'].replace('OFF',1)\n",
        "df_tweet['LABEL'] = df_tweet['LABEL'].replace('NOT',0)\n",
        "\n",
        "#Selecting the label and tweet column for our further analysis\n",
        "df_tweet=df_tweet[['TWEET','LABEL']]\n",
        "df_tweet['LABEL'].unique() # Printing unique values of label variables\n",
        "\n",
        "df_tweet.head()"
      ],
      "metadata": {
        "colab": {
          "base_uri": "https://localhost:8080/",
          "height": 206
        },
        "id": "QrqNpWRHzQok",
        "outputId": "b8c843d0-3121-4831-9fac-47f171fe94b8"
      },
      "execution_count": 51,
      "outputs": [
        {
          "output_type": "execute_result",
          "data": {
            "text/plain": [
              "                                               TWEET  LABEL\n",
              "0  @USER She should ask a few native Americans wh...      1\n",
              "1  @USER @USER Go home you’re drunk!!! @USER #MAG...      1\n",
              "2  Amazon is investigating Chinese employees who ...      0\n",
              "3  @USER Someone should'veTaken\" this piece of sh...      1\n",
              "4  @USER @USER Obama wanted liberals &amp; illega...      0"
            ],
            "text/html": [
              "\n",
              "  <div id=\"df-716e4aaf-17bf-4224-977c-af0b42d711bf\" class=\"colab-df-container\">\n",
              "    <div>\n",
              "<style scoped>\n",
              "    .dataframe tbody tr th:only-of-type {\n",
              "        vertical-align: middle;\n",
              "    }\n",
              "\n",
              "    .dataframe tbody tr th {\n",
              "        vertical-align: top;\n",
              "    }\n",
              "\n",
              "    .dataframe thead th {\n",
              "        text-align: right;\n",
              "    }\n",
              "</style>\n",
              "<table border=\"1\" class=\"dataframe\">\n",
              "  <thead>\n",
              "    <tr style=\"text-align: right;\">\n",
              "      <th></th>\n",
              "      <th>TWEET</th>\n",
              "      <th>LABEL</th>\n",
              "    </tr>\n",
              "  </thead>\n",
              "  <tbody>\n",
              "    <tr>\n",
              "      <th>0</th>\n",
              "      <td>@USER She should ask a few native Americans wh...</td>\n",
              "      <td>1</td>\n",
              "    </tr>\n",
              "    <tr>\n",
              "      <th>1</th>\n",
              "      <td>@USER @USER Go home you’re drunk!!! @USER #MAG...</td>\n",
              "      <td>1</td>\n",
              "    </tr>\n",
              "    <tr>\n",
              "      <th>2</th>\n",
              "      <td>Amazon is investigating Chinese employees who ...</td>\n",
              "      <td>0</td>\n",
              "    </tr>\n",
              "    <tr>\n",
              "      <th>3</th>\n",
              "      <td>@USER Someone should'veTaken\" this piece of sh...</td>\n",
              "      <td>1</td>\n",
              "    </tr>\n",
              "    <tr>\n",
              "      <th>4</th>\n",
              "      <td>@USER @USER Obama wanted liberals &amp;amp; illega...</td>\n",
              "      <td>0</td>\n",
              "    </tr>\n",
              "  </tbody>\n",
              "</table>\n",
              "</div>\n",
              "    <div class=\"colab-df-buttons\">\n",
              "\n",
              "  <div class=\"colab-df-container\">\n",
              "    <button class=\"colab-df-convert\" onclick=\"convertToInteractive('df-716e4aaf-17bf-4224-977c-af0b42d711bf')\"\n",
              "            title=\"Convert this dataframe to an interactive table.\"\n",
              "            style=\"display:none;\">\n",
              "\n",
              "  <svg xmlns=\"http://www.w3.org/2000/svg\" height=\"24px\" viewBox=\"0 -960 960 960\">\n",
              "    <path d=\"M120-120v-720h720v720H120Zm60-500h600v-160H180v160Zm220 220h160v-160H400v160Zm0 220h160v-160H400v160ZM180-400h160v-160H180v160Zm440 0h160v-160H620v160ZM180-180h160v-160H180v160Zm440 0h160v-160H620v160Z\"/>\n",
              "  </svg>\n",
              "    </button>\n",
              "\n",
              "  <style>\n",
              "    .colab-df-container {\n",
              "      display:flex;\n",
              "      gap: 12px;\n",
              "    }\n",
              "\n",
              "    .colab-df-convert {\n",
              "      background-color: #E8F0FE;\n",
              "      border: none;\n",
              "      border-radius: 50%;\n",
              "      cursor: pointer;\n",
              "      display: none;\n",
              "      fill: #1967D2;\n",
              "      height: 32px;\n",
              "      padding: 0 0 0 0;\n",
              "      width: 32px;\n",
              "    }\n",
              "\n",
              "    .colab-df-convert:hover {\n",
              "      background-color: #E2EBFA;\n",
              "      box-shadow: 0px 1px 2px rgba(60, 64, 67, 0.3), 0px 1px 3px 1px rgba(60, 64, 67, 0.15);\n",
              "      fill: #174EA6;\n",
              "    }\n",
              "\n",
              "    .colab-df-buttons div {\n",
              "      margin-bottom: 4px;\n",
              "    }\n",
              "\n",
              "    [theme=dark] .colab-df-convert {\n",
              "      background-color: #3B4455;\n",
              "      fill: #D2E3FC;\n",
              "    }\n",
              "\n",
              "    [theme=dark] .colab-df-convert:hover {\n",
              "      background-color: #434B5C;\n",
              "      box-shadow: 0px 1px 3px 1px rgba(0, 0, 0, 0.15);\n",
              "      filter: drop-shadow(0px 1px 2px rgba(0, 0, 0, 0.3));\n",
              "      fill: #FFFFFF;\n",
              "    }\n",
              "  </style>\n",
              "\n",
              "    <script>\n",
              "      const buttonEl =\n",
              "        document.querySelector('#df-716e4aaf-17bf-4224-977c-af0b42d711bf button.colab-df-convert');\n",
              "      buttonEl.style.display =\n",
              "        google.colab.kernel.accessAllowed ? 'block' : 'none';\n",
              "\n",
              "      async function convertToInteractive(key) {\n",
              "        const element = document.querySelector('#df-716e4aaf-17bf-4224-977c-af0b42d711bf');\n",
              "        const dataTable =\n",
              "          await google.colab.kernel.invokeFunction('convertToInteractive',\n",
              "                                                    [key], {});\n",
              "        if (!dataTable) return;\n",
              "\n",
              "        const docLinkHtml = 'Like what you see? Visit the ' +\n",
              "          '<a target=\"_blank\" href=https://colab.research.google.com/notebooks/data_table.ipynb>data table notebook</a>'\n",
              "          + ' to learn more about interactive tables.';\n",
              "        element.innerHTML = '';\n",
              "        dataTable['output_type'] = 'display_data';\n",
              "        await google.colab.output.renderOutput(dataTable, element);\n",
              "        const docLink = document.createElement('div');\n",
              "        docLink.innerHTML = docLinkHtml;\n",
              "        element.appendChild(docLink);\n",
              "      }\n",
              "    </script>\n",
              "  </div>\n",
              "\n",
              "\n",
              "<div id=\"df-07b10123-9d62-40a7-b553-8ee772ab6e7c\">\n",
              "  <button class=\"colab-df-quickchart\" onclick=\"quickchart('df-07b10123-9d62-40a7-b553-8ee772ab6e7c')\"\n",
              "            title=\"Suggest charts\"\n",
              "            style=\"display:none;\">\n",
              "\n",
              "<svg xmlns=\"http://www.w3.org/2000/svg\" height=\"24px\"viewBox=\"0 0 24 24\"\n",
              "     width=\"24px\">\n",
              "    <g>\n",
              "        <path d=\"M19 3H5c-1.1 0-2 .9-2 2v14c0 1.1.9 2 2 2h14c1.1 0 2-.9 2-2V5c0-1.1-.9-2-2-2zM9 17H7v-7h2v7zm4 0h-2V7h2v10zm4 0h-2v-4h2v4z\"/>\n",
              "    </g>\n",
              "</svg>\n",
              "  </button>\n",
              "\n",
              "<style>\n",
              "  .colab-df-quickchart {\n",
              "      --bg-color: #E8F0FE;\n",
              "      --fill-color: #1967D2;\n",
              "      --hover-bg-color: #E2EBFA;\n",
              "      --hover-fill-color: #174EA6;\n",
              "      --disabled-fill-color: #AAA;\n",
              "      --disabled-bg-color: #DDD;\n",
              "  }\n",
              "\n",
              "  [theme=dark] .colab-df-quickchart {\n",
              "      --bg-color: #3B4455;\n",
              "      --fill-color: #D2E3FC;\n",
              "      --hover-bg-color: #434B5C;\n",
              "      --hover-fill-color: #FFFFFF;\n",
              "      --disabled-bg-color: #3B4455;\n",
              "      --disabled-fill-color: #666;\n",
              "  }\n",
              "\n",
              "  .colab-df-quickchart {\n",
              "    background-color: var(--bg-color);\n",
              "    border: none;\n",
              "    border-radius: 50%;\n",
              "    cursor: pointer;\n",
              "    display: none;\n",
              "    fill: var(--fill-color);\n",
              "    height: 32px;\n",
              "    padding: 0;\n",
              "    width: 32px;\n",
              "  }\n",
              "\n",
              "  .colab-df-quickchart:hover {\n",
              "    background-color: var(--hover-bg-color);\n",
              "    box-shadow: 0 1px 2px rgba(60, 64, 67, 0.3), 0 1px 3px 1px rgba(60, 64, 67, 0.15);\n",
              "    fill: var(--button-hover-fill-color);\n",
              "  }\n",
              "\n",
              "  .colab-df-quickchart-complete:disabled,\n",
              "  .colab-df-quickchart-complete:disabled:hover {\n",
              "    background-color: var(--disabled-bg-color);\n",
              "    fill: var(--disabled-fill-color);\n",
              "    box-shadow: none;\n",
              "  }\n",
              "\n",
              "  .colab-df-spinner {\n",
              "    border: 2px solid var(--fill-color);\n",
              "    border-color: transparent;\n",
              "    border-bottom-color: var(--fill-color);\n",
              "    animation:\n",
              "      spin 1s steps(1) infinite;\n",
              "  }\n",
              "\n",
              "  @keyframes spin {\n",
              "    0% {\n",
              "      border-color: transparent;\n",
              "      border-bottom-color: var(--fill-color);\n",
              "      border-left-color: var(--fill-color);\n",
              "    }\n",
              "    20% {\n",
              "      border-color: transparent;\n",
              "      border-left-color: var(--fill-color);\n",
              "      border-top-color: var(--fill-color);\n",
              "    }\n",
              "    30% {\n",
              "      border-color: transparent;\n",
              "      border-left-color: var(--fill-color);\n",
              "      border-top-color: var(--fill-color);\n",
              "      border-right-color: var(--fill-color);\n",
              "    }\n",
              "    40% {\n",
              "      border-color: transparent;\n",
              "      border-right-color: var(--fill-color);\n",
              "      border-top-color: var(--fill-color);\n",
              "    }\n",
              "    60% {\n",
              "      border-color: transparent;\n",
              "      border-right-color: var(--fill-color);\n",
              "    }\n",
              "    80% {\n",
              "      border-color: transparent;\n",
              "      border-right-color: var(--fill-color);\n",
              "      border-bottom-color: var(--fill-color);\n",
              "    }\n",
              "    90% {\n",
              "      border-color: transparent;\n",
              "      border-bottom-color: var(--fill-color);\n",
              "    }\n",
              "  }\n",
              "</style>\n",
              "\n",
              "  <script>\n",
              "    async function quickchart(key) {\n",
              "      const quickchartButtonEl =\n",
              "        document.querySelector('#' + key + ' button');\n",
              "      quickchartButtonEl.disabled = true;  // To prevent multiple clicks.\n",
              "      quickchartButtonEl.classList.add('colab-df-spinner');\n",
              "      try {\n",
              "        const charts = await google.colab.kernel.invokeFunction(\n",
              "            'suggestCharts', [key], {});\n",
              "      } catch (error) {\n",
              "        console.error('Error during call to suggestCharts:', error);\n",
              "      }\n",
              "      quickchartButtonEl.classList.remove('colab-df-spinner');\n",
              "      quickchartButtonEl.classList.add('colab-df-quickchart-complete');\n",
              "    }\n",
              "    (() => {\n",
              "      let quickchartButtonEl =\n",
              "        document.querySelector('#df-07b10123-9d62-40a7-b553-8ee772ab6e7c button');\n",
              "      quickchartButtonEl.style.display =\n",
              "        google.colab.kernel.accessAllowed ? 'block' : 'none';\n",
              "    })();\n",
              "  </script>\n",
              "</div>\n",
              "    </div>\n",
              "  </div>\n"
            ]
          },
          "metadata": {},
          "execution_count": 51
        }
      ]
    },
    {
      "cell_type": "code",
      "source": [
        "#checking for null values in the tweet column\n",
        "print(df_tweet['TWEET'].isnull().sum())"
      ],
      "metadata": {
        "colab": {
          "base_uri": "https://localhost:8080/"
        },
        "id": "KVj-r9jxcI7G",
        "outputId": "80cc61cb-d47b-41ad-d6a0-1d0150085e1a"
      },
      "execution_count": 52,
      "outputs": [
        {
          "output_type": "stream",
          "name": "stdout",
          "text": [
            "0\n"
          ]
        }
      ]
    },
    {
      "cell_type": "code",
      "source": [
        "sns.countplot(data=df_tweet, x='LABEL')"
      ],
      "metadata": {
        "colab": {
          "base_uri": "https://localhost:8080/",
          "height": 467
        },
        "id": "Toz8UcOPcULC",
        "outputId": "84315bbd-3186-4b20-d945-c8b2515fe69f"
      },
      "execution_count": 53,
      "outputs": [
        {
          "output_type": "execute_result",
          "data": {
            "text/plain": [
              "<Axes: xlabel='LABEL', ylabel='count'>"
            ]
          },
          "metadata": {},
          "execution_count": 53
        },
        {
          "output_type": "display_data",
          "data": {
            "text/plain": [
              "<Figure size 640x480 with 1 Axes>"
            ],
            "image/png": "[encoded data removed]"
          },
          "metadata": {}
        }
      ]
    },
    {
      "cell_type": "code",
      "source": [
        "tweets = df_tweet['TWEET']\n",
        "labels = df_tweet['LABEL']"
      ],
      "metadata": {
        "id": "950zhmZX_zVX"
      },
      "execution_count": 54,
      "outputs": []
    },
    {
      "cell_type": "code",
      "source": [
        "# Tokenize the tweets in the dataset and pad the text converted to sequences\n",
        "tokenizer = Tokenizer()\n",
        "tokenizer.fit_on_texts(tweets)\n",
        "vocabulary_size = len(tokenizer.word_index) + 1\n",
        "\n",
        "sequences = tokenizer.texts_to_sequences(tweets)# Convert tokenised text to sequences\n",
        "max_length_seq = max(len(seq) for seq in sequences) # Pad sequences to the maximum length of sequence\n",
        "padded_seq = pad_sequences(sequences, maxlen=max_length_seq, padding='post')"
      ],
      "metadata": {
        "id": "PjRvKXjCyVnG"
      },
      "execution_count": 55,
      "outputs": []
    },
    {
      "cell_type": "code",
      "source": [
        "# Split the data into training and testing sets\n",
        "X_train, X_test, y_train, y_test = train_test_split(padded_seq, labels, test_size=0.2, random_state=42)"
      ],
      "metadata": {
        "id": "idXNqp64zwWz"
      },
      "execution_count": 56,
      "outputs": []
    },
    {
      "cell_type": "markdown",
      "source": [
        "# **Deep Learning Models**"
      ],
      "metadata": {
        "id": "5nwxhomJ9jMk"
      }
    },
    {
      "cell_type": "markdown",
      "source": [
        "1. Simple RNN"
      ],
      "metadata": {
        "id": "0BL0u1F2Tdwt"
      }
    },
    {
      "cell_type": "code",
      "source": [
        "# Build the RNN model\n",
        "model = Sequential()\n",
        "model.add(Embedding(input_dim=vocabulary_size, output_dim=50, input_length=max_length_seq))\n",
        "model.add(SimpleRNN(units=50, activation='tanh'))\n",
        "model.add(Dense(units=1, activation='sigmoid'))\n",
        "\n",
        "model.compile(optimizer='adam', loss='binary_crossentropy', metrics=['accuracy'])"
      ],
      "metadata": {
        "id": "o0B6fbGpTDJy"
      },
      "execution_count": 57,
      "outputs": []
    },
    {
      "cell_type": "code",
      "source": [
        "# Train the RNN model with training dataset\n",
        "model.fit(X_train, y_train, epochs=20, batch_size=100, validation_split=0.2)"
      ],
      "metadata": {
        "colab": {
          "base_uri": "https://localhost:8080/"
        },
        "id": "hTJ0BxRPTDDr",
        "outputId": "103513e4-22bd-4765-974e-8e6e10e32c06"
      },
      "execution_count": 59,
      "outputs": [
        {
          "output_type": "stream",
          "name": "stdout",
          "text": [
            "Epoch 1/20\n",
            "85/85 [==============================] - 5s 48ms/step - loss: 0.6375 - accuracy: 0.6667 - val_loss: 0.6282 - val_accuracy: 0.6810\n",
            "Epoch 2/20\n",
            "85/85 [==============================] - 6s 66ms/step - loss: 0.6379 - accuracy: 0.6654 - val_loss: 0.6294 - val_accuracy: 0.6810\n",
            "Epoch 3/20\n",
            "85/85 [==============================] - 6s 66ms/step - loss: 0.6349 - accuracy: 0.6686 - val_loss: 0.6261 - val_accuracy: 0.6810\n",
            "Epoch 4/20\n",
            "85/85 [==============================] - 4s 48ms/step - loss: 0.6346 - accuracy: 0.6686 - val_loss: 0.6262 - val_accuracy: 0.6810\n",
            "Epoch 5/20\n",
            "85/85 [==============================] - 4s 48ms/step - loss: 0.6361 - accuracy: 0.6685 - val_loss: 0.6289 - val_accuracy: 0.6810\n",
            "Epoch 6/20\n",
            "85/85 [==============================] - 7s 83ms/step - loss: 0.6364 - accuracy: 0.6686 - val_loss: 0.6264 - val_accuracy: 0.6810\n",
            "Epoch 7/20\n",
            "85/85 [==============================] - 4s 49ms/step - loss: 0.6356 - accuracy: 0.6686 - val_loss: 0.6262 - val_accuracy: 0.6810\n",
            "Epoch 8/20\n",
            "85/85 [==============================] - 4s 48ms/step - loss: 0.6361 - accuracy: 0.6687 - val_loss: 0.6277 - val_accuracy: 0.6810\n",
            "Epoch 9/20\n",
            "85/85 [==============================] - 6s 69ms/step - loss: 0.6369 - accuracy: 0.6687 - val_loss: 0.6262 - val_accuracy: 0.6810\n",
            "Epoch 10/20\n",
            "85/85 [==============================] - 6s 65ms/step - loss: 0.6355 - accuracy: 0.6687 - val_loss: 0.6279 - val_accuracy: 0.6810\n",
            "Epoch 11/20\n",
            "85/85 [==============================] - 4s 49ms/step - loss: 0.6361 - accuracy: 0.6687 - val_loss: 0.6271 - val_accuracy: 0.6805\n",
            "Epoch 12/20\n",
            "85/85 [==============================] - 4s 53ms/step - loss: 0.6334 - accuracy: 0.6687 - val_loss: 0.6293 - val_accuracy: 0.6810\n",
            "Epoch 13/20\n",
            "85/85 [==============================] - 7s 82ms/step - loss: 0.6375 - accuracy: 0.6687 - val_loss: 0.6263 - val_accuracy: 0.6805\n",
            "Epoch 14/20\n",
            "85/85 [==============================] - 4s 48ms/step - loss: 0.6366 - accuracy: 0.6649 - val_loss: 0.6264 - val_accuracy: 0.6810\n",
            "Epoch 15/20\n",
            "85/85 [==============================] - 4s 48ms/step - loss: 0.6356 - accuracy: 0.6687 - val_loss: 0.6291 - val_accuracy: 0.6810\n",
            "Epoch 16/20\n",
            "85/85 [==============================] - 6s 69ms/step - loss: 0.6348 - accuracy: 0.6687 - val_loss: 0.6285 - val_accuracy: 0.6810\n",
            "Epoch 17/20\n",
            "85/85 [==============================] - 5s 63ms/step - loss: 0.6173 - accuracy: 0.6707 - val_loss: 0.6714 - val_accuracy: 0.6404\n",
            "Epoch 18/20\n",
            "85/85 [==============================] - 4s 48ms/step - loss: 0.5821 - accuracy: 0.7038 - val_loss: 0.6820 - val_accuracy: 0.6036\n",
            "Epoch 19/20\n",
            "85/85 [==============================] - 4s 52ms/step - loss: 0.5015 - accuracy: 0.7756 - val_loss: 0.7502 - val_accuracy: 0.5913\n",
            "Epoch 20/20\n",
            "85/85 [==============================] - 7s 84ms/step - loss: 0.4135 - accuracy: 0.8309 - val_loss: 0.8507 - val_accuracy: 0.5956\n"
          ]
        },
        {
          "output_type": "execute_result",
          "data": {
            "text/plain": [
              "<keras.src.callbacks.History at 0x7a0f1a017130>"
            ]
          },
          "metadata": {},
          "execution_count": 59
        }
      ]
    },
    {
      "cell_type": "code",
      "source": [
        "# Evaluate the RNN model on the test set\n",
        "y_pred = model.predict(X_test)\n",
        "rnn_round_predict = [round(pred[0]) for pred in y_pred]\n",
        "\n",
        "# Printing the classification report\n",
        "print(\"\\nClassification Report for RNN model:\")\n",
        "print(classification_report(y_test, rnn_round_predict))"
      ],
      "metadata": {
        "colab": {
          "base_uri": "https://localhost:8080/"
        },
        "id": "YJBd2tYqTDBD",
        "outputId": "b4b466a6-12d5-4ce8-b398-be7879fcd1dc"
      },
      "execution_count": 60,
      "outputs": [
        {
          "output_type": "stream",
          "name": "stdout",
          "text": [
            "83/83 [==============================] - 1s 11ms/step\n",
            "\n",
            "Classification Report for RNN model:\n",
            "              precision    recall  f1-score   support\n",
            "\n",
            "           0       0.67      0.76      0.71      1733\n",
            "           1       0.39      0.30      0.34       915\n",
            "\n",
            "    accuracy                           0.60      2648\n",
            "   macro avg       0.53      0.53      0.52      2648\n",
            "weighted avg       0.57      0.60      0.58      2648\n",
            "\n"
          ]
        }
      ]
    },
    {
      "cell_type": "code",
      "source": [
        "confusion_matrices = confusion_matrix(y_test,rnn_round_predict)\n",
        "\n",
        "# Plotting the confusion matrix as a heatmap\n",
        "plt.figure(figsize=(4, 3))\n",
        "sns.heatmap(confusion_matrices, annot=True, fmt=\"d\", cmap=\"Greens\", cbar=False)\n",
        "plt.title(\"Confusion Matrix for Simple RNN model\")\n",
        "plt.xlabel(\"Predicted Value\")\n",
        "plt.ylabel(\"True\")\n",
        "plt.show()"
      ],
      "metadata": {
        "colab": {
          "base_uri": "https://localhost:8080/",
          "height": 333
        },
        "id": "xgWK_RxUTC-O",
        "outputId": "ff84b5a8-5512-45b7-d3b3-f4978b8b4090"
      },
      "execution_count": 61,
      "outputs": [
        {
          "output_type": "display_data",
          "data": {
            "text/plain": [
              "<Figure size 400x300 with 1 Axes>"
            ],
            "image/png": "[encoded data removed]"
          },
          "metadata": {}
        }
      ]
    },
    {
      "cell_type": "markdown",
      "source": [
        "2. BiLSTM model"
      ],
      "metadata": {
        "id": "gvkjl0Q69pyV"
      }
    },
    {
      "cell_type": "code",
      "source": [
        "# Define the LSTM model\n",
        "model = Sequential()\n",
        "model.add(Embedding(input_dim=vocabulary_size, output_dim=32, input_length=max_length_seq))\n",
        "model.add(Bidirectional(LSTM(units=64, return_sequences=True)))\n",
        "model.add(Bidirectional(LSTM(units=64)))\n",
        "model.add(Dense(units=1, activation='sigmoid'))\n",
        "\n",
        "model.compile(optimizer='adam', loss='binary_crossentropy', metrics=['accuracy'])"
      ],
      "metadata": {
        "id": "PLMoq9g-0329"
      },
      "execution_count": 62,
      "outputs": []
    },
    {
      "cell_type": "code",
      "source": [
        "# Train the model with the training set of data\n",
        "model.fit(X_train, y_train, epochs=20, batch_size=100, validation_split=0.2)"
      ],
      "metadata": {
        "colab": {
          "base_uri": "https://localhost:8080/"
        },
        "id": "5ciTQQPX05_G",
        "outputId": "5a33be5d-8868-4724-849a-4894197fb978"
      },
      "execution_count": 63,
      "outputs": [
        {
          "output_type": "stream",
          "name": "stdout",
          "text": [
            "Epoch 1/20\n",
            "85/85 [==============================] - 73s 760ms/step - loss: 0.6267 - accuracy: 0.6685 - val_loss: 0.5881 - val_accuracy: 0.6918\n",
            "Epoch 2/20\n",
            "85/85 [==============================] - 60s 714ms/step - loss: 0.4564 - accuracy: 0.7968 - val_loss: 0.5487 - val_accuracy: 0.7461\n",
            "Epoch 3/20\n",
            "85/85 [==============================] - 67s 789ms/step - loss: 0.2676 - accuracy: 0.8972 - val_loss: 0.6348 - val_accuracy: 0.7367\n",
            "Epoch 4/20\n",
            "85/85 [==============================] - 60s 714ms/step - loss: 0.1756 - accuracy: 0.9397 - val_loss: 0.7766 - val_accuracy: 0.7282\n",
            "Epoch 5/20\n",
            "85/85 [==============================] - 62s 729ms/step - loss: 0.1188 - accuracy: 0.9628 - val_loss: 0.8939 - val_accuracy: 0.6947\n",
            "Epoch 6/20\n",
            "85/85 [==============================] - 61s 720ms/step - loss: 0.0991 - accuracy: 0.9700 - val_loss: 1.0136 - val_accuracy: 0.7202\n",
            "Epoch 7/20\n",
            "85/85 [==============================] - 62s 729ms/step - loss: 0.0857 - accuracy: 0.9737 - val_loss: 0.9719 - val_accuracy: 0.7154\n",
            "Epoch 8/20\n",
            "85/85 [==============================] - 61s 720ms/step - loss: 0.0624 - accuracy: 0.9835 - val_loss: 1.0579 - val_accuracy: 0.7140\n",
            "Epoch 9/20\n",
            "85/85 [==============================] - 67s 790ms/step - loss: 0.0539 - accuracy: 0.9855 - val_loss: 1.2482 - val_accuracy: 0.6904\n",
            "Epoch 10/20\n",
            "85/85 [==============================] - 61s 715ms/step - loss: 0.0498 - accuracy: 0.9860 - val_loss: 1.2222 - val_accuracy: 0.6706\n",
            "Epoch 11/20\n",
            "85/85 [==============================] - 63s 735ms/step - loss: 0.0441 - accuracy: 0.9880 - val_loss: 1.2333 - val_accuracy: 0.6895\n",
            "Epoch 12/20\n",
            "85/85 [==============================] - 61s 720ms/step - loss: 0.0381 - accuracy: 0.9889 - val_loss: 1.2468 - val_accuracy: 0.6890\n",
            "Epoch 13/20\n",
            "85/85 [==============================] - 63s 738ms/step - loss: 0.0349 - accuracy: 0.9909 - val_loss: 1.3303 - val_accuracy: 0.6961\n",
            "Epoch 14/20\n",
            "85/85 [==============================] - 60s 706ms/step - loss: 0.0275 - accuracy: 0.9921 - val_loss: 1.3113 - val_accuracy: 0.7013\n",
            "Epoch 15/20\n",
            "85/85 [==============================] - 68s 794ms/step - loss: 0.0322 - accuracy: 0.9911 - val_loss: 1.3390 - val_accuracy: 0.7065\n",
            "Epoch 16/20\n",
            "85/85 [==============================] - 61s 717ms/step - loss: 0.0452 - accuracy: 0.9870 - val_loss: 1.3373 - val_accuracy: 0.7220\n",
            "Epoch 17/20\n",
            "85/85 [==============================] - 63s 733ms/step - loss: 0.0550 - accuracy: 0.9845 - val_loss: 1.3556 - val_accuracy: 0.6899\n",
            "Epoch 18/20\n",
            "85/85 [==============================] - 60s 703ms/step - loss: 0.0359 - accuracy: 0.9895 - val_loss: 1.4248 - val_accuracy: 0.6758\n",
            "Epoch 19/20\n",
            "85/85 [==============================] - 68s 797ms/step - loss: 0.0248 - accuracy: 0.9919 - val_loss: 1.5025 - val_accuracy: 0.6876\n",
            "Epoch 20/20\n",
            "85/85 [==============================] - 66s 778ms/step - loss: 0.0319 - accuracy: 0.9901 - val_loss: 1.4059 - val_accuracy: 0.6890\n"
          ]
        },
        {
          "output_type": "execute_result",
          "data": {
            "text/plain": [
              "<keras.src.callbacks.History at 0x7a0f161b7fd0>"
            ]
          },
          "metadata": {},
          "execution_count": 63
        }
      ]
    },
    {
      "cell_type": "code",
      "source": [
        "# Evaluate the LSTM model on the test set\n",
        "y_pred = model.predict(X_test)\n",
        "lstm_round_predict = [round(pred[0]) for pred in y_pred]\n",
        "\n",
        "# Printing the classification report\n",
        "print(\"\\nClassification Report for BiLSTM model:\")\n",
        "print(classification_report(y_test, lstm_round_predict))"
      ],
      "metadata": {
        "colab": {
          "base_uri": "https://localhost:8080/"
        },
        "id": "gX71Rdjohnw0",
        "outputId": "03ae37a7-7754-4e82-cb1c-4ac013f47c36"
      },
      "execution_count": 64,
      "outputs": [
        {
          "output_type": "stream",
          "name": "stdout",
          "text": [
            "83/83 [==============================] - 6s 57ms/step\n",
            "\n",
            "Classification Report for BiLSTM model:\n",
            "              precision    recall  f1-score   support\n",
            "\n",
            "           0       0.77      0.75      0.76      1733\n",
            "           1       0.55      0.58      0.57       915\n",
            "\n",
            "    accuracy                           0.69      2648\n",
            "   macro avg       0.66      0.67      0.66      2648\n",
            "weighted avg       0.70      0.69      0.69      2648\n",
            "\n"
          ]
        }
      ]
    },
    {
      "cell_type": "code",
      "source": [
        "confusion_matrices = confusion_matrix(y_test,lstm_round_predict)\n",
        "\n",
        "# Plotting the confusion matrix as a heatmap\n",
        "plt.figure(figsize=(4, 3))\n",
        "sns.heatmap(confusion_matrices, annot=True, fmt=\"d\", cmap=\"Greens\", cbar=False)\n",
        "plt.title(\"Confusion Matrix for LSTM model\")\n",
        "plt.xlabel(\"Predicted Value\")\n",
        "plt.ylabel(\"True\")\n",
        "plt.show()"
      ],
      "metadata": {
        "colab": {
          "base_uri": "https://localhost:8080/",
          "height": 333
        },
        "id": "2d1TJO_-G6bm",
        "outputId": "10ef05f6-e102-47d6-e448-b832fd3002a3"
      },
      "execution_count": 65,
      "outputs": [
        {
          "output_type": "display_data",
          "data": {
            "text/plain": [
              "<Figure size 400x300 with 1 Axes>"
            ],
            "image/png": "[encoded data removed]"
          },
          "metadata": {}
        }
      ]
    },
    {
      "cell_type": "markdown",
      "source": [
        "3. CNN model"
      ],
      "metadata": {
        "id": "OTZ6xuqoHnfP"
      }
    },
    {
      "cell_type": "code",
      "source": [
        "# Define the CNN model\n",
        "embedding_dim = 50\n",
        "model = Sequential()\n",
        "model.add(Embedding(input_dim=vocabulary_size, output_dim=50, input_length=max_length_seq))\n",
        "model.add(Conv1D(filters=64, kernel_size=3, activation='relu'))\n",
        "model.add(GlobalMaxPooling1D())\n",
        "model.add(Dense(units=1, activation='sigmoid'))"
      ],
      "metadata": {
        "id": "1FNp5OdybDiw"
      },
      "execution_count": 66,
      "outputs": []
    },
    {
      "cell_type": "code",
      "source": [
        "# The model is compiled\n",
        "model.compile(optimizer='adam', loss='binary_crossentropy', metrics=['accuracy'])\n",
        "\n",
        "# Show the model summary\n",
        "model.summary()"
      ],
      "metadata": {
        "colab": {
          "base_uri": "https://localhost:8080/"
        },
        "id": "wHX2Q_WGbDf9",
        "outputId": "55e745a1-011e-44c7-c05c-88c388e88f4e"
      },
      "execution_count": 67,
      "outputs": [
        {
          "output_type": "stream",
          "name": "stdout",
          "text": [
            "Model: \"sequential_9\"\n",
            "_________________________________________________________________\n",
            " Layer (type)                Output Shape              Param #   \n",
            "=================================================================\n",
            " embedding_9 (Embedding)     (None, 105, 50)           1062200   \n",
            "                                                                 \n",
            " conv1d_2 (Conv1D)           (None, 103, 64)           9664      \n",
            "                                                                 \n",
            " global_max_pooling1d_2 (Gl  (None, 64)                0         \n",
            " obalMaxPooling1D)                                               \n",
            "                                                                 \n",
            " dense_9 (Dense)             (None, 1)                 65        \n",
            "                                                                 \n",
            "=================================================================\n",
            "Total params: 1071929 (4.09 MB)\n",
            "Trainable params: 1071929 (4.09 MB)\n",
            "Non-trainable params: 0 (0.00 Byte)\n",
            "_________________________________________________________________\n"
          ]
        }
      ]
    },
    {
      "cell_type": "code",
      "source": [
        "# Training the CNN model\n",
        "model.fit(X_train, y_train, epochs=20, batch_size=50, validation_split=0.2)"
      ],
      "metadata": {
        "colab": {
          "base_uri": "https://localhost:8080/"
        },
        "id": "dYZw_MEZdJLL",
        "outputId": "7033fb9e-972d-4274-80f2-9ee4de632125"
      },
      "execution_count": 68,
      "outputs": [
        {
          "output_type": "stream",
          "name": "stdout",
          "text": [
            "Epoch 1/20\n",
            "170/170 [==============================] - 8s 41ms/step - loss: 0.6272 - accuracy: 0.6706 - val_loss: 0.5861 - val_accuracy: 0.7164\n",
            "Epoch 2/20\n",
            "170/170 [==============================] - 4s 25ms/step - loss: 0.4888 - accuracy: 0.7661 - val_loss: 0.4848 - val_accuracy: 0.7725\n",
            "Epoch 3/20\n",
            "170/170 [==============================] - 4s 24ms/step - loss: 0.3327 - accuracy: 0.8550 - val_loss: 0.5029 - val_accuracy: 0.7735\n",
            "Epoch 4/20\n",
            "170/170 [==============================] - 6s 34ms/step - loss: 0.1972 - accuracy: 0.9288 - val_loss: 0.5657 - val_accuracy: 0.7645\n",
            "Epoch 5/20\n",
            "170/170 [==============================] - 5s 30ms/step - loss: 0.1063 - accuracy: 0.9679 - val_loss: 0.6684 - val_accuracy: 0.7541\n",
            "Epoch 6/20\n",
            "170/170 [==============================] - 4s 24ms/step - loss: 0.0569 - accuracy: 0.9874 - val_loss: 0.7806 - val_accuracy: 0.7570\n",
            "Epoch 7/20\n",
            "170/170 [==============================] - 4s 26ms/step - loss: 0.0348 - accuracy: 0.9924 - val_loss: 0.8546 - val_accuracy: 0.7466\n",
            "Epoch 8/20\n",
            "170/170 [==============================] - 6s 37ms/step - loss: 0.0240 - accuracy: 0.9941 - val_loss: 0.9365 - val_accuracy: 0.7494\n",
            "Epoch 9/20\n",
            "170/170 [==============================] - 5s 27ms/step - loss: 0.0181 - accuracy: 0.9952 - val_loss: 0.9953 - val_accuracy: 0.7419\n",
            "Epoch 10/20\n",
            "170/170 [==============================] - 4s 25ms/step - loss: 0.0149 - accuracy: 0.9960 - val_loss: 1.0594 - val_accuracy: 0.7508\n",
            "Epoch 11/20\n",
            "170/170 [==============================] - 6s 34ms/step - loss: 0.0114 - accuracy: 0.9975 - val_loss: 1.1066 - val_accuracy: 0.7376\n",
            "Epoch 12/20\n",
            "170/170 [==============================] - 5s 32ms/step - loss: 0.0103 - accuracy: 0.9970 - val_loss: 1.1316 - val_accuracy: 0.7376\n",
            "Epoch 13/20\n",
            "170/170 [==============================] - 4s 26ms/step - loss: 0.0093 - accuracy: 0.9974 - val_loss: 1.1839 - val_accuracy: 0.7353\n",
            "Epoch 14/20\n",
            "170/170 [==============================] - 5s 30ms/step - loss: 0.0077 - accuracy: 0.9979 - val_loss: 1.2354 - val_accuracy: 0.7452\n",
            "Epoch 15/20\n",
            "170/170 [==============================] - 6s 37ms/step - loss: 0.0072 - accuracy: 0.9978 - val_loss: 1.2768 - val_accuracy: 0.7494\n",
            "Epoch 16/20\n",
            "170/170 [==============================] - 4s 25ms/step - loss: 0.0081 - accuracy: 0.9978 - val_loss: 1.2810 - val_accuracy: 0.7419\n",
            "Epoch 17/20\n",
            "170/170 [==============================] - 4s 25ms/step - loss: 0.0075 - accuracy: 0.9975 - val_loss: 1.2966 - val_accuracy: 0.7348\n",
            "Epoch 18/20\n",
            "170/170 [==============================] - 6s 35ms/step - loss: 0.0067 - accuracy: 0.9980 - val_loss: 1.3316 - val_accuracy: 0.7428\n",
            "Epoch 19/20\n",
            "170/170 [==============================] - 5s 29ms/step - loss: 0.0069 - accuracy: 0.9981 - val_loss: 1.3220 - val_accuracy: 0.7286\n",
            "Epoch 20/20\n",
            "170/170 [==============================] - 4s 25ms/step - loss: 0.0064 - accuracy: 0.9979 - val_loss: 1.3513 - val_accuracy: 0.7404\n"
          ]
        },
        {
          "output_type": "execute_result",
          "data": {
            "text/plain": [
              "<keras.src.callbacks.History at 0x7a0f0bc9ceb0>"
            ]
          },
          "metadata": {},
          "execution_count": 68
        }
      ]
    },
    {
      "cell_type": "code",
      "source": [
        "# Evaluate the CNN model on the test set\n",
        "predictions = model.predict(X_test)\n",
        "cnn_round_predict = [round(pred[0]) for pred in predictions]\n",
        "\n",
        "# Printing the classification report for CNN model\n",
        "print(\"\\nClassification Report for CNN model\")\n",
        "print(classification_report(y_test, cnn_round_predict))"
      ],
      "metadata": {
        "colab": {
          "base_uri": "https://localhost:8080/"
        },
        "id": "TCVP7Ri7cWvL",
        "outputId": "31cf0706-0c40-4279-d2e1-654480ec6c56"
      },
      "execution_count": 69,
      "outputs": [
        {
          "output_type": "stream",
          "name": "stdout",
          "text": [
            "83/83 [==============================] - 0s 3ms/step\n",
            "\n",
            "Classification Report for CNN model\n",
            "              precision    recall  f1-score   support\n",
            "\n",
            "           0       0.77      0.82      0.79      1733\n",
            "           1       0.61      0.53      0.57       915\n",
            "\n",
            "    accuracy                           0.72      2648\n",
            "   macro avg       0.69      0.68      0.68      2648\n",
            "weighted avg       0.71      0.72      0.72      2648\n",
            "\n"
          ]
        }
      ]
    },
    {
      "cell_type": "code",
      "source": [
        "confusion_matrices = confusion_matrix(y_test,cnn_round_predict)\n",
        "\n",
        "# Plotting the confusion matrix for CNN model as a heatmap\n",
        "plt.figure(figsize=(4, 3))\n",
        "sns.heatmap(confusion_matrices, annot=True, fmt=\"d\", cmap=\"Greens\", cbar=False)\n",
        "plt.title(\"Confusion Matrix for CNN model\")\n",
        "plt.xlabel(\"Predicted Value\")\n",
        "plt.ylabel(\"True\")\n",
        "plt.show()"
      ],
      "metadata": {
        "colab": {
          "base_uri": "https://localhost:8080/",
          "height": 333
        },
        "id": "gu8VRAlEGOvn",
        "outputId": "f6ab26db-e752-4a85-8086-a963006fe6b3"
      },
      "execution_count": 70,
      "outputs": [
        {
          "output_type": "display_data",
          "data": {
            "text/plain": [
              "<Figure size 400x300 with 1 Axes>"
            ],
            "image/png": "[encoded data removed]"
          },
          "metadata": {}
        }
      ]
    }
  ]
}